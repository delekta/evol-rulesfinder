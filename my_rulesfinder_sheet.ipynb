{
 "cells": [
  {
   "cell_type": "markdown",
   "metadata": {},
   "source": [
    "### Fill passwords rules table"
   ]
  },
  {
   "cell_type": "code",
   "execution_count": null,
   "metadata": {},
   "outputs": [],
   "source": [
    "import enchant\n",
    "\n",
    "d = enchant.Dict(\"en_US\")\n",
    "\n",
    "# 1. Get passwords set\n",
    "# 2. Try to extract methods from the password so we get base words. We create a table of rules and base words\n",
    "# 3. Learn model so that you have set of the best combinations of rule\n",
    "\n",
    "# Lowercase - does not make sense\n",
    "# Uppercase\n",
    "def checkRule1AndUpdateWord(word):\n",
    "    if word.isupper():\n",
    "        return word.lower(), \"Uppercase\"\n",
    "\n",
    "# Capitalize\n",
    "def checkRule2AndUpdateWord(word):\n",
    "    if word[0].isupper():\n",
    "        return word[0].lower() + word[1:], \"Capitalize\"\n",
    "    \n",
    "# Invert Capitalize\n",
    "def checkRule3AndUpdateWord(word):\n",
    "    if word[0].islower() and word[1:].isupper():\n",
    "        return chr(ord(word[0]) + 32 ) + word[1:], \"Invert Capitalize\"\n",
    "\n",
    "# Toggle case\n",
    "# Toggle @ - at position\n",
    "# Reverse\n",
    "def checkRule4AndUpdateWord(word):\n",
    "    if d.check(word[::-1]):\n",
    "        return word[::-1]\n",
    "\n",
    "# Duplicate\n",
    "def checkRule5AndUpdateWord(word):\n",
    "    first_part, second_part = word[:len(word)//2], word[len(word)//2:]\n",
    "    if first_part == second_part:\n",
    "        return first_part\n",
    "\n",
    "# Duplicate N - TODO\n",
    "# def checkRule4AndUpdateWord(word):\n",
    "#     first_part, second_part = word[:len(word)//2], word[len(word)//2:]\n",
    "#     if first_part == second_part:\n",
    "#         return first_part\n",
    "\n",
    "# Reflect\n",
    "def checkRule6AndUpdateWord(word):\n",
    "    first_part, second_part = word[:len(word)//2], word[len(word)//2:]\n",
    "    if first_part == second_part[::-1]:\n",
    "        return first_part\n",
    "\n",
    "# Rotate Left\n",
    "def checkRule7AndUpdateWord(word):\n",
    "    if d.check(word[-1] + word):\n",
    "        return first_part\n",
    "\n",
    "\n",
    "# add other rules\n",
    "\n",
    "# computationally expensive function\n",
    "def getBaseWordAndRules(password):\n",
    "    base_word = \"\"\n",
    "    applied_rules = []\n",
    "    while True:\n",
    "        last_loop = True\n",
    "        if checkRule1AndUpdateWord():\n",
    "            last_loop = False\n",
    "            password, rule1 = checkRule1AndUpdateWord(password)\n",
    "            applied_rules += rule1\n",
    "            if d.check(password): break\n",
    "        elif checkRule2AndUpdateWord(password):\n",
    "            last_loop = False\n",
    "            password, rule1 = checkRule1AndUpdateWord(password)\n",
    "            applied_rules += rule1\n",
    "            if d.check(password): break\n",
    "        # check other rules\n",
    "        if last_loop:\n",
    "            break\n",
    "\n",
    "\n",
    "    return base_word, applied_rules\n",
    "\n",
    "\n",
    "password = \"Password12\"\n",
    "base_word, rules_sequence = getBaseWordAndRules(password)\n",
    "print(\"Base Word:\", base_word)\n",
    "print(\"Rules Sequence:\", rules_sequence)\n"
   ]
  },
  {
   "cell_type": "markdown",
   "metadata": {},
   "source": [
    "| Password | Rules    |\n",
    "| :---:   | :---: |\n",
    "| \"Password12\" | ['c', '$1', '$2']|\n",
    "| \"qwerty\" | null   |\n",
    "| \"admin!@#$\" | ['$!', '$@', '$#', '$$']|"
   ]
  },
  {
   "cell_type": "markdown",
   "metadata": {},
   "source": []
  },
  {
   "cell_type": "markdown",
   "metadata": {},
   "source": [
    "### Learn model for the most effective set of rules"
   ]
  },
  {
   "cell_type": "code",
   "execution_count": null,
   "metadata": {},
   "outputs": [],
   "source": [
    "# maybe just find the most common rules\n",
    "# learn model, but how?"
   ]
  },
  {
   "cell_type": "markdown",
   "metadata": {},
   "source": [
    "### Create more effective set of rules"
   ]
  },
  {
   "cell_type": "code",
   "execution_count": null,
   "metadata": {},
   "outputs": [],
   "source": [
    "# Create more effective set of rules than "
   ]
  },
  {
   "cell_type": "code",
   "execution_count": null,
   "metadata": {},
   "outputs": [],
   "source": []
  }
 ],
 "metadata": {
  "language_info": {
   "name": "python"
  }
 },
 "nbformat": 4,
 "nbformat_minor": 2
}
